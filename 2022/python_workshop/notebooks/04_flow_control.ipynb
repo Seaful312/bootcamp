{
 "cells": [
  {
   "cell_type": "code",
   "execution_count": 2,
   "metadata": {},
   "outputs": [],
   "source": [
    "a = 2"
   ]
  },
  {
   "cell_type": "code",
   "execution_count": 28,
   "metadata": {},
   "outputs": [],
   "source": [
    "if a == 1:\n",
    "    print(\"IF\") # identation\n",
    "else:\n",
    "    print(\"ELSE\")"
   ]
  },
  {
   "cell_type": "markdown",
   "metadata": {},
   "source": [
    "__Q: How can the above code be written in one line?__"
   ]
  },
  {
   "cell_type": "code",
   "execution_count": 3,
   "metadata": {},
   "outputs": [
    {
     "name": "stdout",
     "output_type": "stream",
     "text": [
      "ELSE\n"
     ]
    }
   ],
   "source": [
    "print('IF') if a == 1 else print('ELSE')"
   ]
  },
  {
   "cell_type": "code",
   "execution_count": null,
   "metadata": {},
   "outputs": [],
   "source": [
    "\"\"\"\n",
    "An if block can have:\n",
    "    - only 1 if clause\n",
    "    - 0 or more elifs clauses\n",
    "    - 0 or 1 else clause\n",
    "\"\"\"\n",
    "\n",
    "if a == 1:      # \n",
    "    print(\"IF\")\n",
    "elif a == 2:\n",
    "    print(\"ELIF\")\n",
    "else:\n",
    "    print(\"ELSE\")"
   ]
  },
  {
   "cell_type": "markdown",
   "metadata": {},
   "source": [
    "__Q: What is None in Python?__"
   ]
  },
  {
   "cell_type": "code",
   "execution_count": 4,
   "metadata": {},
   "outputs": [
    {
     "name": "stdout",
     "output_type": "stream",
     "text": [
      "Var a is not None\n"
     ]
    }
   ],
   "source": [
    "if a is None:  # do not use == None\n",
    "    print(\"Var a is None\")\n",
    "    \n",
    "if a is not None:\n",
    "    print(\"Var a is not None\")"
   ]
  },
  {
   "cell_type": "markdown",
   "metadata": {},
   "source": [
    "__Q: What is the output of the below 2 cells? Why?__"
   ]
  },
  {
   "cell_type": "code",
   "execution_count": 18,
   "metadata": {},
   "outputs": [],
   "source": [
    "False == 0"
   ]
  },
  {
   "cell_type": "code",
   "execution_count": 7,
   "metadata": {},
   "outputs": [],
   "source": [
    "a = 'a'\n",
    "if not a:\n",
    "    print(f\"a = {a}\")"
   ]
  },
  {
   "cell_type": "code",
   "execution_count": 24,
   "metadata": {},
   "outputs": [],
   "source": []
  },
  {
   "cell_type": "code",
   "execution_count": 6,
   "metadata": {},
   "outputs": [
    {
     "name": "stdout",
     "output_type": "stream",
     "text": [
      "idx in while: 0\n",
      "idx in while: 1\n",
      "idx in while: 2\n",
      "3\n"
     ]
    }
   ],
   "source": [
    "idx = 0\n",
    "while idx < 3:\n",
    "    print(f\"idx in while: {idx}\")\n",
    "    idx += 1\n",
    "print(idx)"
   ]
  },
  {
   "cell_type": "code",
   "execution_count": null,
   "metadata": {},
   "outputs": [],
   "source": []
  },
  {
   "cell_type": "code",
   "execution_count": 10,
   "metadata": {},
   "outputs": [
    {
     "name": "stdout",
     "output_type": "stream",
     "text": [
      "1\n",
      "2\n",
      "3\n"
     ]
    }
   ],
   "source": [
    "my_list = [1, 2, 3]\n",
    "for el in my_list:\n",
    "    print(el)"
   ]
  },
  {
   "cell_type": "markdown",
   "metadata": {},
   "source": [
    "__Task: Rewrite the above WHILE loop using a FOR loop.__"
   ]
  },
  {
   "cell_type": "code",
   "execution_count": 8,
   "metadata": {},
   "outputs": [
    {
     "name": "stdout",
     "output_type": "stream",
     "text": [
      "idx in while: 0\n",
      "idx in while: 1\n",
      "idx in while: 2\n",
      "3\n"
     ]
    }
   ],
   "source": [
    "idx = 0\n",
    "for _ in range(3):\n",
    "    print(f\"idx in while: {idx}\")\n",
    "    idx += 1\n",
    "print(idx)"
   ]
  },
  {
   "cell_type": "markdown",
   "metadata": {},
   "source": [
    "__Q:What is the output of the below cell?__"
   ]
  },
  {
   "cell_type": "code",
   "execution_count": 11,
   "metadata": {},
   "outputs": [
    {
     "name": "stdout",
     "output_type": "stream",
     "text": [
      "1\n",
      "3\n",
      "\n",
      "1\n"
     ]
    }
   ],
   "source": [
    "for el in my_list:\n",
    "    if el == 2:\n",
    "        continue\n",
    "    print(el)\n",
    "print()\n",
    "for el in my_list:\n",
    "    if el == 2:\n",
    "        break\n",
    "    print(el)"
   ]
  },
  {
   "cell_type": "code",
   "execution_count": 12,
   "metadata": {},
   "outputs": [
    {
     "name": "stdout",
     "output_type": "stream",
     "text": [
      "1\n",
      "1\n"
     ]
    }
   ],
   "source": [
    "\"\"\"\n",
    "Both WHILE and FOR loops can have an else clause which is executed when the loop completes normally, i.e. break was executed\n",
    "\"\"\"\n",
    "my_list = [1, 1, 2, 3]\n",
    "# my_list = [1, 1, 3]\n",
    "for el in my_list:\n",
    "    if el == 2:\n",
    "        break\n",
    "    print(el)\n",
    "else:\n",
    "    print(\"ELSE\")"
   ]
  },
  {
   "cell_type": "markdown",
   "metadata": {},
   "source": [
    "__Task: Given the lists below, print the following output:<br>\n",
    "1,3<br>\n",
    "1,4<br>\n",
    "2,3<br>\n",
    "2,4__"
   ]
  },
  {
   "cell_type": "code",
   "execution_count": 22,
   "metadata": {},
   "outputs": [
    {
     "name": "stdout",
     "output_type": "stream",
     "text": [
      "1,3\n",
      "1,4\n",
      "2,3\n",
      "2,4\n"
     ]
    }
   ],
   "source": [
    "l1 = [1,2]\n",
    "l2 = [3,4]\n",
    "for i in l1:\n",
    "    for j in l2:\n",
    "        print(f'{i},{j}')\n",
    "    \n"
   ]
  },
  {
   "cell_type": "markdown",
   "metadata": {},
   "source": [
    "__Task: Given the lists below, print the following output:<br>\n",
    "1,3<br>\n",
    "2,4__"
   ]
  },
  {
   "cell_type": "code",
   "execution_count": 24,
   "metadata": {},
   "outputs": [
    {
     "name": "stdout",
     "output_type": "stream",
     "text": [
      "1,3\n",
      "2,4\n"
     ]
    }
   ],
   "source": [
    "l1 = [1,2]\n",
    "l2 = [3,4]\n",
    "\n",
    "for i in range(len(l1)):\n",
    "    print(f'{l1[i]},{l2[i]}')\n"
   ]
  },
  {
   "cell_type": "markdown",
   "metadata": {},
   "source": [
    "__Dictionary instead of if-else<br>\n",
    "Backwards compatible__"
   ]
  },
  {
   "cell_type": "code",
   "execution_count": 1,
   "metadata": {},
   "outputs": [
    {
     "name": "stdout",
     "output_type": "stream",
     "text": [
      "2\n",
      "2\n"
     ]
    }
   ],
   "source": [
    "country = 'Canada'\n",
    "\n",
    "if country == \"Russia\":\n",
    "    print(1)\n",
    "elif country == \"Canada\":\n",
    "    print(2)\n",
    "elif country == \"China\":\n",
    "    print(3)\n",
    "else:\n",
    "    print(\"Invalid country!\")\n",
    "\n",
    "# ---------------------------------------\n",
    "\n",
    "countries = {\n",
    "    \"Russia\": 1,\n",
    "    \"Canada\": 2,\n",
    "    \"China\": 3\n",
    "}\n",
    "\n",
    "print(countries[country])"
   ]
  },
  {
   "cell_type": "code",
   "execution_count": 26,
   "metadata": {},
   "outputs": [
    {
     "name": "stdout",
     "output_type": "stream",
     "text": [
      "NAME from module_1.py: module_1\n",
      "FILE from module_1.py: g:\\bootcamp\\bootcamp\\2022\\python_workshop\\notebooks\\module_1.py\n",
      "module_1 -- a = 1\n"
     ]
    }
   ],
   "source": [
    "import module_1"
   ]
  },
  {
   "cell_type": "code",
   "execution_count": null,
   "metadata": {},
   "outputs": [],
   "source": []
  },
  {
   "cell_type": "code",
   "execution_count": null,
   "metadata": {},
   "outputs": [],
   "source": []
  },
  {
   "cell_type": "code",
   "execution_count": null,
   "metadata": {},
   "outputs": [],
   "source": []
  },
  {
   "cell_type": "code",
   "execution_count": 37,
   "metadata": {},
   "outputs": [
    {
     "name": "stdout",
     "output_type": "stream",
     "text": [
      "24\n",
      "4\n"
     ]
    }
   ],
   "source": [
    "\"\"\"\n",
    "Ex1:\n",
    "Print odd numbers of the following list: [1,2,3,4,5] --> 1, 3, 5\n",
    "\n",
    "Ex2:\n",
    "Print string elems in reversed order: ['a', 'b', 2, 1, 'c'] --> 'c', 'b', 'a'\n",
    "\n",
    "Ex3:\n",
    "Print factorial of a given number.\n",
    " (4!) --> 24\n",
    " (0!) --> 1\n",
    " (1!) --> 1\n",
    "\n",
    "\"\"\"\n",
    "n = 4\n",
    "factorial = 1\n",
    "for i in range(1, n+1):\n",
    "    factorial *= i\n",
    "print(factorial)\n",
    "\"\"\"\n",
    "\n",
    "Ex4:\n",
    "Print the total number of digits in a number: 1111 --> 4\n",
    "\"\"\"\n",
    "number = 1111\n",
    "print(len(str(number)))"
   ]
  },
  {
   "cell_type": "code",
   "execution_count": 57,
   "metadata": {},
   "outputs": [],
   "source": [
    "\"\"\"\n",
    "Ex5:\n",
    "Print the elements that satisfy the following criteria:\n",
    "a. number must be divisible by 9\n",
    "b. if it is equal to 81, do not print it, go to the next one \n",
    "c. if last element of the list is greater or equal to 100, end the loop\n",
    "c. if all elems are smaller that 100, print \"All good.\"\n",
    "\"\"\"\n",
    "\n",
    "\n",
    "\n",
    "\n",
    "\"\"\"\n",
    "Ex6:\n",
    "Print the following pattern:\n",
    "5 4 3 2 1 \n",
    "4 3 2 1 \n",
    "3 2 1 \n",
    "2 1 \n",
    "1\n",
    "\"\"\"\n",
    "\n"
   ]
  },
  {
   "cell_type": "code",
   "execution_count": 48,
   "metadata": {},
   "outputs": [
    {
     "name": "stdout",
     "output_type": "stream",
     "text": [
      "0\n",
      "9\n",
      "18\n",
      "27\n",
      "36\n",
      "45\n",
      "All good\n"
     ]
    }
   ],
   "source": [
    "list = [i for i in range(50)]\n",
    "\n",
    "for i in list:\n",
    "    if i == list[-1] and i >= 100:\n",
    "            break\n",
    "    elif i != 81:\n",
    "        if i % 9 == 0:\n",
    "            print(i)\n",
    "else:\n",
    "    print('All good')"
   ]
  },
  {
   "cell_type": "code",
   "execution_count": 68,
   "metadata": {},
   "outputs": [
    {
     "name": "stdout",
     "output_type": "stream",
     "text": [
      "5 4 3 2 1 \n",
      "\n",
      "4 3 2 1 \n",
      "\n",
      "3 2 1 \n",
      "\n",
      "2 1 \n",
      "\n",
      "1 \n",
      "\n"
     ]
    }
   ],
   "source": [
    "n = 5\n",
    "for _ in range(n):\n",
    "    m = n\n",
    "    for _ in range(n):\n",
    "            print(m, end=\" \")\n",
    "            m -= 1\n",
    "    print(\"\\n\")\n",
    "    n -= 1\n"
   ]
  },
  {
   "cell_type": "code",
   "execution_count": null,
   "metadata": {},
   "outputs": [],
   "source": [
    "\"\"\"\n",
    "Ex7:\n",
    "Given below input, write Python code to generate the below output:\n",
    "\n",
    "input = {\n",
    "        \"Prison\": \"NoName\",\n",
    "        \"Address\": \"Unknown\",\n",
    "        \"Inmates\": {\n",
    "            \"3242\": {\n",
    "                \"Name\": \"Chad\",\n",
    "                \"Age\": 29\n",
    "            },\n",
    "            \"435456\": {\n",
    "                \"Name\": \"Paul\",\n",
    "                \"Age\": 46\n",
    "            },\n",
    "            \"9865\": {\n",
    "                \"Name\": \"Jim\",\n",
    "                \"Age\": 43\n",
    "            }\n",
    "        }\n",
    "    }\n",
    "\n",
    "\n",
    "output = {\n",
    "        \"Prison\": \"NoName\",\n",
    "        \"Address\": \"Unknown\",\n",
    "        \"Inmates\": [\n",
    "            {\n",
    "                \"id\": \"3242\",\n",
    "                \"Name\": \"Chad\",\n",
    "                \"Age\": 29\n",
    "            },\n",
    "            {\n",
    "                \"id\": \"435456\",\n",
    "                \"Name\": \"Paul\",\n",
    "                \"Age\": 46\n",
    "            },\n",
    "            {\n",
    "                \"id\": \"9865\",\n",
    "                \"Name\": \"Jim\",\n",
    "                \"Age\": 43\n",
    "            }\n",
    "      ]\n",
    "}\n",
    "\"\"\""
   ]
  },
  {
   "cell_type": "code",
   "execution_count": 122,
   "metadata": {},
   "outputs": [
    {
     "name": "stdout",
     "output_type": "stream",
     "text": [
      "[{'3242': '3', '435456': '2', '9865': '4'}, {'3242': '4', '435456': '3', '9865': '5'}, {'3242': '9', '435456': '8', '9865': '6'}]\n"
     ]
    }
   ],
   "source": [
    "input = {\n",
    "        \"Prison\": \"NoName\",\n",
    "        \"Address\": \"Unknown\",\n",
    "        \"Inmates\": {\n",
    "            \"3242\": {\n",
    "                \"Name\": \"Chad\",\n",
    "                \"Age\": 29\n",
    "            },\n",
    "            \"435456\": {\n",
    "                \"Name\": \"Paul\",\n",
    "                \"Age\": 46\n",
    "            },\n",
    "            \"9865\": {\n",
    "                \"Name\": \"Jim\",\n",
    "                \"Age\": 43\n",
    "            }\n",
    "        }\n",
    "    }\n",
    "\n",
    "output = {key: value for key, value in input.items()}\n",
    "keys = [key for key, value in input.get('Inmates').items()]\n",
    "\n",
    "for i in input['Inmates']:\n",
    "    output['Inmates'][i] = input['Inmates'][keys]\n",
    "\n",
    "print(blabla) \n"
   ]
  }
 ],
 "metadata": {
  "kernelspec": {
   "display_name": "Python 3.10.5 64-bit",
   "language": "python",
   "name": "python3"
  },
  "language_info": {
   "codemirror_mode": {
    "name": "ipython",
    "version": 3
   },
   "file_extension": ".py",
   "mimetype": "text/x-python",
   "name": "python",
   "nbconvert_exporter": "python",
   "pygments_lexer": "ipython3",
   "version": "3.10.5"
  },
  "vscode": {
   "interpreter": {
    "hash": "369f2c481f4da34e4445cda3fffd2e751bd1c4d706f27375911949ba6bb62e1c"
   }
  }
 },
 "nbformat": 4,
 "nbformat_minor": 4
}
